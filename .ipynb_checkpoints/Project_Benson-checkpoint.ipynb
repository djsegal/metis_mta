{
 "cells": [
  {
   "cell_type": "code",
   "execution_count": 1,
   "metadata": {},
   "outputs": [],
   "source": [
    "#setup import libs\n",
    "import numpy as np\n",
    "import pandas as pd\n",
    "\n",
    "# various options in pandas\n",
    "pd.set_option('display.max_columns', None)\n",
    "pd.set_option('display.max_rows', 25)\n",
    "pd.set_option('display.precision', 3)"
   ]
  },
  {
   "cell_type": "code",
   "execution_count": 2,
   "metadata": {},
   "outputs": [],
   "source": [
    "def import_file(File_Path, Local=True):\n",
    "    \"\"\"\n",
    "    import file into DataFrame and strip leading and tailing \n",
    "    whitespaces if any.\n",
    "    File_path: internet link(URL) or where file is stored\n",
    "    Local: is it URL or File stored in local?, Defualt True(store in local)\n",
    "    \"\"\"\n",
    "    import pandas as pd\n",
    "    \n",
    "    if Local:\n",
    "        fh = open(File_Path)\n",
    "    else:\n",
    "        \n",
    "        from urllib.request import urlopen  # the lib that handles the url stuff\n",
    "        fh = urlopen(File_Path) # it's a file like object and works just like a file\n",
    "        \n",
    "    data = pd.read_csv(fh, header = 0) #import file as DataFrame\n",
    "        \n",
    "    return data"
   ]
  },
  {
   "cell_type": "code",
   "execution_count": 3,
   "metadata": {},
   "outputs": [
    {
     "ename": "FileNotFoundError",
     "evalue": "[Errno 2] No such file or directory: 'turnstile_190921.txt'",
     "output_type": "error",
     "traceback": [
      "\u001b[0;31m---------------------------------------------------------------------------\u001b[0m",
      "\u001b[0;31mFileNotFoundError\u001b[0m                         Traceback (most recent call last)",
      "\u001b[0;32m<ipython-input-3-e9a4620927de>\u001b[0m in \u001b[0;36m<module>\u001b[0;34m\u001b[0m\n\u001b[1;32m      1\u001b[0m \u001b[0;31m#import_file('http://web.mta.info/developers/data/nyct/turnstile/turnstile_190921.txt', False)\u001b[0m\u001b[0;34m\u001b[0m\u001b[0;34m\u001b[0m\u001b[0;34m\u001b[0m\u001b[0m\n\u001b[0;32m----> 2\u001b[0;31m \u001b[0mDF_19021\u001b[0m \u001b[0;34m=\u001b[0m \u001b[0mimport_file\u001b[0m\u001b[0;34m(\u001b[0m\u001b[0;34m'turnstile_190921.txt'\u001b[0m\u001b[0;34m)\u001b[0m\u001b[0;34m\u001b[0m\u001b[0;34m\u001b[0m\u001b[0m\n\u001b[0m\u001b[1;32m      3\u001b[0m \u001b[0mDF_19021\u001b[0m\u001b[0;34m\u001b[0m\u001b[0;34m\u001b[0m\u001b[0m\n",
      "\u001b[0;32m<ipython-input-2-3360ff27bdba>\u001b[0m in \u001b[0;36mimport_file\u001b[0;34m(File_Path, Local)\u001b[0m\n\u001b[1;32m      9\u001b[0m \u001b[0;34m\u001b[0m\u001b[0m\n\u001b[1;32m     10\u001b[0m     \u001b[0;32mif\u001b[0m \u001b[0mLocal\u001b[0m\u001b[0;34m:\u001b[0m\u001b[0;34m\u001b[0m\u001b[0;34m\u001b[0m\u001b[0m\n\u001b[0;32m---> 11\u001b[0;31m         \u001b[0mfh\u001b[0m \u001b[0;34m=\u001b[0m \u001b[0mopen\u001b[0m\u001b[0;34m(\u001b[0m\u001b[0mFile_Path\u001b[0m\u001b[0;34m)\u001b[0m\u001b[0;34m\u001b[0m\u001b[0;34m\u001b[0m\u001b[0m\n\u001b[0m\u001b[1;32m     12\u001b[0m     \u001b[0;32melse\u001b[0m\u001b[0;34m:\u001b[0m\u001b[0;34m\u001b[0m\u001b[0;34m\u001b[0m\u001b[0m\n\u001b[1;32m     13\u001b[0m \u001b[0;34m\u001b[0m\u001b[0m\n",
      "\u001b[0;31mFileNotFoundError\u001b[0m: [Errno 2] No such file or directory: 'turnstile_190921.txt'"
     ]
    }
   ],
   "source": [
    "#import_file('http://web.mta.info/developers/data/nyct/turnstile/turnstile_190921.txt', False)\n",
    "DF_19021 = import_file('turnstile_190921.txt')\n",
    "DF_19021"
   ]
  },
  {
   "cell_type": "code",
   "execution_count": 45,
   "metadata": {},
   "outputs": [
    {
     "data": {
      "text/plain": [
       "Index(['C/A', 'UNIT', 'SCP', 'STATION', 'LINENAME', 'DIVISION', 'DATE', 'TIME',\n",
       "       'DESC', 'ENTRIES',\n",
       "       'EXITS                                                               '],\n",
       "      dtype='object')"
      ]
     },
     "execution_count": 45,
     "metadata": {},
     "output_type": "execute_result"
    }
   ],
   "source": [
    "DF_19021.columns"
   ]
  },
  {
   "cell_type": "code",
   "execution_count": 54,
   "metadata": {},
   "outputs": [
    {
     "data": {
      "text/plain": [
       "0"
      ]
     },
     "execution_count": 54,
     "metadata": {},
     "output_type": "execute_result"
    }
   ],
   "source": [
    "# total number of missing values \n",
    "np.count_nonzero(DF_19021.isnull())"
   ]
  },
  {
   "cell_type": "markdown",
   "metadata": {},
   "source": [
    "## Info need to extract\n",
    "__Find Stations w/ highest Entries and Exits__: But have to exclude locations w/ high tourists (compare between weekend and weekdays)  \n",
    "__Narrow down which time in day has higher rate__  \n",
    "__Find demographic info with Gender and industries base on zipcode?__\n"
   ]
  },
  {
   "cell_type": "code",
   "execution_count": 56,
   "metadata": {},
   "outputs": [
    {
     "data": {
      "text/plain": [
       "2129093303"
      ]
     },
     "execution_count": 56,
     "metadata": {},
     "output_type": "execute_result"
    }
   ],
   "source": [
    "# Find Top 5 Max Exits and Entries\n",
    "DF_19021.ENTRIES.max()"
   ]
  },
  {
   "cell_type": "code",
   "execution_count": 70,
   "metadata": {},
   "outputs": [
    {
     "data": {
      "text/html": [
       "<div>\n",
       "<style scoped>\n",
       "    .dataframe tbody tr th:only-of-type {\n",
       "        vertical-align: middle;\n",
       "    }\n",
       "\n",
       "    .dataframe tbody tr th {\n",
       "        vertical-align: top;\n",
       "    }\n",
       "\n",
       "    .dataframe thead tr th {\n",
       "        text-align: left;\n",
       "    }\n",
       "\n",
       "    .dataframe thead tr:last-of-type th {\n",
       "        text-align: right;\n",
       "    }\n",
       "</style>\n",
       "<table border=\"1\" class=\"dataframe\">\n",
       "  <thead>\n",
       "    <tr>\n",
       "      <th></th>\n",
       "      <th colspan=\"2\" halign=\"left\">ENTRIES</th>\n",
       "      <th colspan=\"2\" halign=\"left\">EXITS</th>\n",
       "    </tr>\n",
       "    <tr>\n",
       "      <th></th>\n",
       "      <th>mean</th>\n",
       "      <th>count</th>\n",
       "      <th>mean</th>\n",
       "      <th>count</th>\n",
       "    </tr>\n",
       "    <tr>\n",
       "      <th>STATION</th>\n",
       "      <th></th>\n",
       "      <th></th>\n",
       "      <th></th>\n",
       "      <th></th>\n",
       "    </tr>\n",
       "  </thead>\n",
       "  <tbody>\n",
       "    <tr>\n",
       "      <td>1 AV</td>\n",
       "      <td>1.415e+08</td>\n",
       "      <td>420</td>\n",
       "      <td>1.466e+08</td>\n",
       "      <td>420</td>\n",
       "    </tr>\n",
       "    <tr>\n",
       "      <td>103 ST</td>\n",
       "      <td>9.585e+06</td>\n",
       "      <td>630</td>\n",
       "      <td>7.863e+06</td>\n",
       "      <td>630</td>\n",
       "    </tr>\n",
       "    <tr>\n",
       "      <td>103 ST-CORONA</td>\n",
       "      <td>8.163e+06</td>\n",
       "      <td>378</td>\n",
       "      <td>8.149e+06</td>\n",
       "      <td>378</td>\n",
       "    </tr>\n",
       "    <tr>\n",
       "      <td>104 ST</td>\n",
       "      <td>5.388e+08</td>\n",
       "      <td>378</td>\n",
       "      <td>3.921e+08</td>\n",
       "      <td>378</td>\n",
       "    </tr>\n",
       "    <tr>\n",
       "      <td>110 ST</td>\n",
       "      <td>6.482e+06</td>\n",
       "      <td>252</td>\n",
       "      <td>6.195e+06</td>\n",
       "      <td>252</td>\n",
       "    </tr>\n",
       "    <tr>\n",
       "      <td>...</td>\n",
       "      <td>...</td>\n",
       "      <td>...</td>\n",
       "      <td>...</td>\n",
       "      <td>...</td>\n",
       "    </tr>\n",
       "    <tr>\n",
       "      <td>WOODLAWN</td>\n",
       "      <td>6.258e+06</td>\n",
       "      <td>207</td>\n",
       "      <td>2.427e+06</td>\n",
       "      <td>207</td>\n",
       "    </tr>\n",
       "    <tr>\n",
       "      <td>WORLD TRADE CTR</td>\n",
       "      <td>8.880e+07</td>\n",
       "      <td>756</td>\n",
       "      <td>1.023e+08</td>\n",
       "      <td>756</td>\n",
       "    </tr>\n",
       "    <tr>\n",
       "      <td>WTC-CORTLANDT</td>\n",
       "      <td>2.101e+07</td>\n",
       "      <td>1470</td>\n",
       "      <td>9.607e+04</td>\n",
       "      <td>1470</td>\n",
       "    </tr>\n",
       "    <tr>\n",
       "      <td>YORK ST</td>\n",
       "      <td>1.459e+07</td>\n",
       "      <td>126</td>\n",
       "      <td>1.168e+07</td>\n",
       "      <td>126</td>\n",
       "    </tr>\n",
       "    <tr>\n",
       "      <td>ZEREGA AV</td>\n",
       "      <td>3.520e+05</td>\n",
       "      <td>246</td>\n",
       "      <td>1.903e+05</td>\n",
       "      <td>246</td>\n",
       "    </tr>\n",
       "  </tbody>\n",
       "</table>\n",
       "<p>378 rows × 4 columns</p>\n",
       "</div>"
      ],
      "text/plain": [
       "                   ENTRIES        \\\n",
       "                      mean count   \n",
       "STATION                            \n",
       "1 AV             1.415e+08   420   \n",
       "103 ST           9.585e+06   630   \n",
       "103 ST-CORONA    8.163e+06   378   \n",
       "104 ST           5.388e+08   378   \n",
       "110 ST           6.482e+06   252   \n",
       "...                    ...   ...   \n",
       "WOODLAWN         6.258e+06   207   \n",
       "WORLD TRADE CTR  8.880e+07   756   \n",
       "WTC-CORTLANDT    2.101e+07  1470   \n",
       "YORK ST          1.459e+07   126   \n",
       "ZEREGA AV        3.520e+05   246   \n",
       "\n",
       "                EXITS                                                                 \\\n",
       "                                                                                mean   \n",
       "STATION                                                                                \n",
       "1 AV                                                     1.466e+08                     \n",
       "103 ST                                                   7.863e+06                     \n",
       "103 ST-CORONA                                            8.149e+06                     \n",
       "104 ST                                                   3.921e+08                     \n",
       "110 ST                                                   6.195e+06                     \n",
       "...                                                            ...                     \n",
       "WOODLAWN                                                 2.427e+06                     \n",
       "WORLD TRADE CTR                                          1.023e+08                     \n",
       "WTC-CORTLANDT                                            9.607e+04                     \n",
       "YORK ST                                                  1.168e+07                     \n",
       "ZEREGA AV                                                1.903e+05                     \n",
       "\n",
       "                       \n",
       "                count  \n",
       "STATION                \n",
       "1 AV              420  \n",
       "103 ST            630  \n",
       "103 ST-CORONA     378  \n",
       "104 ST            378  \n",
       "110 ST            252  \n",
       "...               ...  \n",
       "WOODLAWN          207  \n",
       "WORLD TRADE CTR   756  \n",
       "WTC-CORTLANDT    1470  \n",
       "YORK ST           126  \n",
       "ZEREGA AV         246  \n",
       "\n",
       "[378 rows x 4 columns]"
      ]
     },
     "execution_count": 70,
     "metadata": {},
     "output_type": "execute_result"
    }
   ],
   "source": [
    "#groupby station, find the mean for Entries and Exits\n",
    "DF_19021_Station = DF_19021.groupby('STATION').agg(['mean','count'])\n",
    "DF_19021_Station"
   ]
  },
  {
   "cell_type": "code",
   "execution_count": 66,
   "metadata": {},
   "outputs": [
    {
     "data": {
      "text/plain": [
       "['ENTRIES',\n",
       " 'EXITS                                                               ']"
      ]
     },
     "execution_count": 66,
     "metadata": {},
     "output_type": "execute_result"
    }
   ],
   "source": []
  },
  {
   "cell_type": "code",
   "execution_count": null,
   "metadata": {},
   "outputs": [],
   "source": []
  },
  {
   "cell_type": "code",
   "execution_count": null,
   "metadata": {},
   "outputs": [],
   "source": []
  }
 ],
 "metadata": {
  "kernelspec": {
   "display_name": "Python [conda env:metis] *",
   "language": "python",
   "name": "conda-env-metis-py"
  },
  "language_info": {
   "codemirror_mode": {
    "name": "ipython",
    "version": 3
   },
   "file_extension": ".py",
   "mimetype": "text/x-python",
   "name": "python",
   "nbconvert_exporter": "python",
   "pygments_lexer": "ipython3",
   "version": "3.7.4"
  }
 },
 "nbformat": 4,
 "nbformat_minor": 2
}
